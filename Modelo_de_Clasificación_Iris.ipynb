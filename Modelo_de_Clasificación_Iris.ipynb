{
  "nbformat": 4,
  "nbformat_minor": 0,
  "metadata": {
    "colab": {
      "name": "Modelo de Clasificación Iris.ipynb",
      "provenance": [],
      "collapsed_sections": [],
      "authorship_tag": "ABX9TyMQePt+hC5TaL4xJkMVya7d",
      "include_colab_link": true
    },
    "kernelspec": {
      "name": "python3",
      "display_name": "Python 3"
    }
  },
  "cells": [
    {
      "cell_type": "markdown",
      "metadata": {
        "id": "view-in-github",
        "colab_type": "text"
      },
      "source": [
        "<a href=\"https://colab.research.google.com/github/Nyota-Lab/Flores/blob/Primeros-pasos/Modelo_de_Clasificaci%C3%B3n_Iris.ipynb\" target=\"_parent\"><img src=\"https://colab.research.google.com/assets/colab-badge.svg\" alt=\"Open In Colab\"/></a>"
      ]
    },
    {
      "cell_type": "markdown",
      "metadata": {
        "id": "xf-i0Och7rzx",
        "colab_type": "text"
      },
      "source": [
        "#Modelo de clasificacion en sklearn\n",
        "* Primero vamos a importar el dataset y nuestro algoritmo de clasificacion"
      ]
    },
    {
      "cell_type": "code",
      "metadata": {
        "id": "9D6nYXzK6dOH",
        "colab_type": "code",
        "colab": {}
      },
      "source": [
        "from sklearn.datasets import load_iris\n",
        "from sklearn.ensemble import RandomForestClassifier\n",
        "import pandas as pd\n",
        "import numpy as np\n",
        "import matplotlib.pyplot as plt"
      ],
      "execution_count": 0,
      "outputs": []
    },
    {
      "cell_type": "markdown",
      "metadata": {
        "id": "G1_e-OjZ9j88",
        "colab_type": "text"
      },
      "source": [
        "* Tambien vamos a generar un random seed, el cual nos va a servir para limitar la aleatoriedad y que el codigo sea replicable"
      ]
    },
    {
      "cell_type": "code",
      "metadata": {
        "id": "uyQE06U79xpD",
        "colab_type": "code",
        "colab": {}
      },
      "source": [
        "np.random.seed(0)"
      ],
      "execution_count": 0,
      "outputs": []
    },
    {
      "cell_type": "markdown",
      "metadata": {
        "id": "2qOpLXN2_FDt",
        "colab_type": "text"
      },
      "source": [
        "* Instanciamos nuestro dataset"
      ]
    },
    {
      "cell_type": "code",
      "metadata": {
        "id": "NJwT8T-09yMy",
        "colab_type": "code",
        "colab": {}
      },
      "source": [
        "iris = load_iris()"
      ],
      "execution_count": 0,
      "outputs": []
    },
    {
      "cell_type": "markdown",
      "metadata": {
        "id": "c1wXmiYx_bFl",
        "colab_type": "text"
      },
      "source": [
        "* Lo convertimos en un dataframe dandole el nombre de las features que tiene el dataset y tambien organizando las columnas"
      ]
    },
    {
      "cell_type": "code",
      "metadata": {
        "id": "MHiWcrom7pzh",
        "colab_type": "code",
        "colab": {}
      },
      "source": [
        "df_iris = pd.DataFrame(iris.data,columns=iris.feature_names)"
      ],
      "execution_count": 0,
      "outputs": []
    },
    {
      "cell_type": "code",
      "metadata": {
        "id": "BYX1DNOD7qEz",
        "colab_type": "code",
        "colab": {}
      },
      "source": [
        "df_iris.head()"
      ],
      "execution_count": 0,
      "outputs": []
    },
    {
      "cell_type": "markdown",
      "metadata": {
        "id": "eEi4_NFmC5vc",
        "colab_type": "text"
      },
      "source": [
        "* Ahora nos falta agregarle los nombres de nuestras especies de flores al dataframe para lo cual tenemos que agregar una nueva columna"
      ]
    },
    {
      "cell_type": "code",
      "metadata": {
        "id": "jNXSzBQL7qIJ",
        "colab_type": "code",
        "colab": {}
      },
      "source": [
        "df_iris['species']=pd.Categorical.from_codes(iris.target, iris.target_names)"
      ],
      "execution_count": 0,
      "outputs": []
    },
    {
      "cell_type": "code",
      "metadata": {
        "id": "jqx_PU2o7qKw",
        "colab_type": "code",
        "colab": {}
      },
      "source": [
        "df_iris.head()"
      ],
      "execution_count": 0,
      "outputs": []
    },
    {
      "cell_type": "markdown",
      "metadata": {
        "id": "zoxGjiTpFJJa",
        "colab_type": "text"
      },
      "source": [
        "* Una forma manual de realizar la division de los datos es sacarlos a través de porcentajes del total del dataframe:\n",
        " * Instanciamos el total de los datos en una función random\n",
        " * De esa función random sacamos un porcentaje del total de los datos\n",
        " * Instanciamos el porcentaje mayor como datos de entrenamiento y la diferencia como datos de prueba"
      ]
    },
    {
      "cell_type": "code",
      "metadata": {
        "id": "LKWDMD4v7qNe",
        "colab_type": "code",
        "colab": {}
      },
      "source": [
        "trainRandom = np.random.rand(len(df_iris))<0.8"
      ],
      "execution_count": 0,
      "outputs": []
    },
    {
      "cell_type": "code",
      "metadata": {
        "id": "8NqmfvXc7qP6",
        "colab_type": "code",
        "colab": {}
      },
      "source": [
        "train = df_iris[trainRandom]"
      ],
      "execution_count": 0,
      "outputs": []
    },
    {
      "cell_type": "code",
      "metadata": {
        "id": "73wr5MEU7qS8",
        "colab_type": "code",
        "colab": {}
      },
      "source": [
        "test = df_iris[~trainRandom]\n",
        "test"
      ],
      "execution_count": 0,
      "outputs": []
    },
    {
      "cell_type": "code",
      "metadata": {
        "id": "Yugi_o4MGU2J",
        "colab_type": "code",
        "colab": {
          "base_uri": "https://localhost:8080/",
          "height": 54
        },
        "outputId": "f4fe6ca6-0e1b-4912-8019-5eb16fd16137"
      },
      "source": [
        "print(len(train)+len(test))\n",
        "print(len(df_iris))"
      ],
      "execution_count": 27,
      "outputs": [
        {
          "output_type": "stream",
          "text": [
            "150\n",
            "150\n"
          ],
          "name": "stdout"
        }
      ]
    },
    {
      "cell_type": "markdown",
      "metadata": {
        "id": "gXgTlCKDHunQ",
        "colab_type": "text"
      },
      "source": [
        "* Una vez hemos separado nuestros sets de entrenamiento y de prueba, establezcamos el objetivo"
      ]
    },
    {
      "cell_type": "code",
      "metadata": {
        "id": "-XROaepXGVLp",
        "colab_type": "code",
        "colab": {
          "base_uri": "https://localhost:8080/",
          "height": 206
        },
        "outputId": "5a6871be-32be-4588-bded-58a64842ea7d"
      },
      "source": [
        "features = train.drop('species', axis=1)\n",
        "features.head()"
      ],
      "execution_count": 63,
      "outputs": [
        {
          "output_type": "execute_result",
          "data": {
            "text/html": [
              "<div>\n",
              "<style scoped>\n",
              "    .dataframe tbody tr th:only-of-type {\n",
              "        vertical-align: middle;\n",
              "    }\n",
              "\n",
              "    .dataframe tbody tr th {\n",
              "        vertical-align: top;\n",
              "    }\n",
              "\n",
              "    .dataframe thead th {\n",
              "        text-align: right;\n",
              "    }\n",
              "</style>\n",
              "<table border=\"1\" class=\"dataframe\">\n",
              "  <thead>\n",
              "    <tr style=\"text-align: right;\">\n",
              "      <th></th>\n",
              "      <th>sepal length (cm)</th>\n",
              "      <th>sepal width (cm)</th>\n",
              "      <th>petal length (cm)</th>\n",
              "      <th>petal width (cm)</th>\n",
              "    </tr>\n",
              "  </thead>\n",
              "  <tbody>\n",
              "    <tr>\n",
              "      <th>0</th>\n",
              "      <td>5.1</td>\n",
              "      <td>3.5</td>\n",
              "      <td>1.4</td>\n",
              "      <td>0.2</td>\n",
              "    </tr>\n",
              "    <tr>\n",
              "      <th>1</th>\n",
              "      <td>4.9</td>\n",
              "      <td>3.0</td>\n",
              "      <td>1.4</td>\n",
              "      <td>0.2</td>\n",
              "    </tr>\n",
              "    <tr>\n",
              "      <th>2</th>\n",
              "      <td>4.7</td>\n",
              "      <td>3.2</td>\n",
              "      <td>1.3</td>\n",
              "      <td>0.2</td>\n",
              "    </tr>\n",
              "    <tr>\n",
              "      <th>3</th>\n",
              "      <td>4.6</td>\n",
              "      <td>3.1</td>\n",
              "      <td>1.5</td>\n",
              "      <td>0.2</td>\n",
              "    </tr>\n",
              "    <tr>\n",
              "      <th>4</th>\n",
              "      <td>5.0</td>\n",
              "      <td>3.6</td>\n",
              "      <td>1.4</td>\n",
              "      <td>0.2</td>\n",
              "    </tr>\n",
              "  </tbody>\n",
              "</table>\n",
              "</div>"
            ],
            "text/plain": [
              "   sepal length (cm)  sepal width (cm)  petal length (cm)  petal width (cm)\n",
              "0                5.1               3.5                1.4               0.2\n",
              "1                4.9               3.0                1.4               0.2\n",
              "2                4.7               3.2                1.3               0.2\n",
              "3                4.6               3.1                1.5               0.2\n",
              "4                5.0               3.6                1.4               0.2"
            ]
          },
          "metadata": {
            "tags": []
          },
          "execution_count": 63
        }
      ]
    },
    {
      "cell_type": "code",
      "metadata": {
        "colab_type": "code",
        "outputId": "fec54ddc-da39-417e-eb60-92c4682fdf5f",
        "id": "Lq6Ppf3aMDYO",
        "colab": {
          "base_uri": "https://localhost:8080/",
          "height": 148
        }
      },
      "source": [
        "target = train['species']\n",
        "target.head()"
      ],
      "execution_count": 64,
      "outputs": [
        {
          "output_type": "execute_result",
          "data": {
            "text/plain": [
              "0    setosa\n",
              "1    setosa\n",
              "2    setosa\n",
              "3    setosa\n",
              "4    setosa\n",
              "Name: species, dtype: category\n",
              "Categories (3, object): [setosa, versicolor, virginica]"
            ]
          },
          "metadata": {
            "tags": []
          },
          "execution_count": 64
        }
      ]
    },
    {
      "cell_type": "markdown",
      "metadata": {
        "id": "7aKJiHpwKSf3",
        "colab_type": "text"
      },
      "source": [
        "* Vamos a convertir las especies en números para su clasificación"
      ]
    },
    {
      "cell_type": "code",
      "metadata": {
        "id": "Ty4CODIBGVSc",
        "colab_type": "code",
        "colab": {}
      },
      "source": [
        "target = pd.factorize(train['species'])[0]"
      ],
      "execution_count": 0,
      "outputs": []
    },
    {
      "cell_type": "code",
      "metadata": {
        "id": "JVS-qYdtGVP-",
        "colab_type": "code",
        "colab": {
          "base_uri": "https://localhost:8080/",
          "height": 129
        },
        "outputId": "0ec335df-0be2-446a-9139-9fdf89f52b81"
      },
      "source": [
        "target"
      ],
      "execution_count": 66,
      "outputs": [
        {
          "output_type": "execute_result",
          "data": {
            "text/plain": [
              "array([0, 0, 0, 0, 0, 0, 0, 0, 0, 0, 0, 0, 0, 0, 0, 0, 0, 0, 0, 0, 0, 0,\n",
              "       0, 0, 0, 0, 0, 0, 0, 0, 0, 0, 0, 0, 0, 0, 0, 0, 0, 0, 0, 0, 1, 1,\n",
              "       1, 1, 1, 1, 1, 1, 1, 1, 1, 1, 1, 1, 1, 1, 1, 1, 1, 1, 1, 1, 1, 1,\n",
              "       1, 1, 1, 1, 1, 1, 1, 1, 1, 1, 1, 1, 1, 1, 1, 1, 1, 1, 1, 2, 2, 2,\n",
              "       2, 2, 2, 2, 2, 2, 2, 2, 2, 2, 2, 2, 2, 2, 2, 2, 2, 2, 2, 2, 2, 2,\n",
              "       2, 2, 2, 2, 2, 2, 2, 2, 2, 2, 2, 2, 2])"
            ]
          },
          "metadata": {
            "tags": []
          },
          "execution_count": 66
        }
      ]
    },
    {
      "cell_type": "markdown",
      "metadata": {
        "id": "kzMdnKrnR7fG",
        "colab_type": "text"
      },
      "source": [
        "* Procedemos a entrenar nuestro modelo de clasificacion"
      ]
    },
    {
      "cell_type": "code",
      "metadata": {
        "id": "szx3RlxZLPSc",
        "colab_type": "code",
        "colab": {}
      },
      "source": [
        "clf = RandomForestClassifier(n_estimators=150, n_jobs=2, random_state=0)"
      ],
      "execution_count": 0,
      "outputs": []
    },
    {
      "cell_type": "code",
      "metadata": {
        "colab_type": "code",
        "outputId": "5e0c78c3-2347-480b-91a1-25a5658dadcb",
        "id": "zjJBATSHMChw",
        "colab": {
          "base_uri": "https://localhost:8080/",
          "height": 167
        }
      },
      "source": [
        "clf.fit(features, target)"
      ],
      "execution_count": 74,
      "outputs": [
        {
          "output_type": "execute_result",
          "data": {
            "text/plain": [
              "RandomForestClassifier(bootstrap=True, ccp_alpha=0.0, class_weight=None,\n",
              "                       criterion='gini', max_depth=None, max_features='auto',\n",
              "                       max_leaf_nodes=None, max_samples=None,\n",
              "                       min_impurity_decrease=0.0, min_impurity_split=None,\n",
              "                       min_samples_leaf=1, min_samples_split=2,\n",
              "                       min_weight_fraction_leaf=0.0, n_estimators=150, n_jobs=2,\n",
              "                       oob_score=False, random_state=0, verbose=0,\n",
              "                       warm_start=False)"
            ]
          },
          "metadata": {
            "tags": []
          },
          "execution_count": 74
        }
      ]
    },
    {
      "cell_type": "code",
      "metadata": {
        "id": "DTdhyd7QLPdM",
        "colab_type": "code",
        "colab": {}
      },
      "source": [
        "test_features = test.drop('species', axis=1)"
      ],
      "execution_count": 0,
      "outputs": []
    },
    {
      "cell_type": "markdown",
      "metadata": {
        "id": "3gcmuKJtSHeQ",
        "colab_type": "text"
      },
      "source": [
        "* Realizamos una prediccion con nuestro set de test"
      ]
    },
    {
      "cell_type": "code",
      "metadata": {
        "id": "4Ddpc5GfLPj3",
        "colab_type": "code",
        "colab": {
          "base_uri": "https://localhost:8080/",
          "height": 54
        },
        "outputId": "227e2daf-5fda-4a32-a472-e7df17512b4f"
      },
      "source": [
        "clf.predict(test_features)"
      ],
      "execution_count": 80,
      "outputs": [
        {
          "output_type": "execute_result",
          "data": {
            "text/plain": [
              "array([0, 0, 0, 0, 0, 0, 0, 0, 1, 1, 1, 2, 2, 1, 1, 2, 2, 2, 2, 2, 2, 2,\n",
              "       2, 2, 2, 2, 2])"
            ]
          },
          "metadata": {
            "tags": []
          },
          "execution_count": 80
        }
      ]
    },
    {
      "cell_type": "markdown",
      "metadata": {
        "id": "fj7iS9mtSOF-",
        "colab_type": "text"
      },
      "source": [
        "* Solicitamos que nos muestre los nombres de las especies y nó los valores numéricos"
      ]
    },
    {
      "cell_type": "code",
      "metadata": {
        "id": "2XHFATwoLPoU",
        "colab_type": "code",
        "colab": {
          "base_uri": "https://localhost:8080/",
          "height": 129
        },
        "outputId": "29507de7-cf66-4941-badc-97ce391178d3"
      },
      "source": [
        "preds = iris.target_names[clf.predict(test_features)]\n",
        "preds"
      ],
      "execution_count": 83,
      "outputs": [
        {
          "output_type": "execute_result",
          "data": {
            "text/plain": [
              "array(['setosa', 'setosa', 'setosa', 'setosa', 'setosa', 'setosa',\n",
              "       'setosa', 'setosa', 'versicolor', 'versicolor', 'versicolor',\n",
              "       'virginica', 'virginica', 'versicolor', 'versicolor', 'virginica',\n",
              "       'virginica', 'virginica', 'virginica', 'virginica', 'virginica',\n",
              "       'virginica', 'virginica', 'virginica', 'virginica', 'virginica',\n",
              "       'virginica'], dtype='<U10')"
            ]
          },
          "metadata": {
            "tags": []
          },
          "execution_count": 83
        }
      ]
    },
    {
      "cell_type": "code",
      "metadata": {
        "id": "NC64OMmPLPsl",
        "colab_type": "code",
        "colab": {
          "base_uri": "https://localhost:8080/",
          "height": 560
        },
        "outputId": "e0df4728-3a8d-4207-9409-44ab4c790a44"
      },
      "source": [
        "test['species']"
      ],
      "execution_count": 84,
      "outputs": [
        {
          "output_type": "execute_result",
          "data": {
            "text/plain": [
              "7          setosa\n",
              "8          setosa\n",
              "13         setosa\n",
              "17         setosa\n",
              "19         setosa\n",
              "20         setosa\n",
              "27         setosa\n",
              "38         setosa\n",
              "52     versicolor\n",
              "66     versicolor\n",
              "68     versicolor\n",
              "70     versicolor\n",
              "72     versicolor\n",
              "89     versicolor\n",
              "98     versicolor\n",
              "103     virginica\n",
              "109     virginica\n",
              "111     virginica\n",
              "114     virginica\n",
              "116     virginica\n",
              "118     virginica\n",
              "122     virginica\n",
              "140     virginica\n",
              "143     virginica\n",
              "144     virginica\n",
              "147     virginica\n",
              "149     virginica\n",
              "Name: species, dtype: category\n",
              "Categories (3, object): [setosa, versicolor, virginica]"
            ]
          },
          "metadata": {
            "tags": []
          },
          "execution_count": 84
        }
      ]
    },
    {
      "cell_type": "markdown",
      "metadata": {
        "id": "pIJUB_V2SZLU",
        "colab_type": "text"
      },
      "source": [
        "* Para  poder visualizar de manera mucho mas rápida y sencilla el desempeño del modelo con datos entrenados podemos crear una matriz de confusión, dentro de la cual los datos que se encuentren en la diagonal son los que corresponden a los aciertos y fuera de esta contamos errores"
      ]
    },
    {
      "cell_type": "code",
      "metadata": {
        "id": "h42ODrTGLPrI",
        "colab_type": "code",
        "colab": {
          "base_uri": "https://localhost:8080/",
          "height": 175
        },
        "outputId": "ae3e80d8-115a-41eb-d7c4-bef7186caff9"
      },
      "source": [
        "pd.crosstab(test['species'],preds, rownames=['Real'], colnames=['Pred'])"
      ],
      "execution_count": 88,
      "outputs": [
        {
          "output_type": "execute_result",
          "data": {
            "text/html": [
              "<div>\n",
              "<style scoped>\n",
              "    .dataframe tbody tr th:only-of-type {\n",
              "        vertical-align: middle;\n",
              "    }\n",
              "\n",
              "    .dataframe tbody tr th {\n",
              "        vertical-align: top;\n",
              "    }\n",
              "\n",
              "    .dataframe thead th {\n",
              "        text-align: right;\n",
              "    }\n",
              "</style>\n",
              "<table border=\"1\" class=\"dataframe\">\n",
              "  <thead>\n",
              "    <tr style=\"text-align: right;\">\n",
              "      <th>Pred</th>\n",
              "      <th>setosa</th>\n",
              "      <th>versicolor</th>\n",
              "      <th>virginica</th>\n",
              "    </tr>\n",
              "    <tr>\n",
              "      <th>Real</th>\n",
              "      <th></th>\n",
              "      <th></th>\n",
              "      <th></th>\n",
              "    </tr>\n",
              "  </thead>\n",
              "  <tbody>\n",
              "    <tr>\n",
              "      <th>setosa</th>\n",
              "      <td>8</td>\n",
              "      <td>0</td>\n",
              "      <td>0</td>\n",
              "    </tr>\n",
              "    <tr>\n",
              "      <th>versicolor</th>\n",
              "      <td>0</td>\n",
              "      <td>5</td>\n",
              "      <td>2</td>\n",
              "    </tr>\n",
              "    <tr>\n",
              "      <th>virginica</th>\n",
              "      <td>0</td>\n",
              "      <td>0</td>\n",
              "      <td>12</td>\n",
              "    </tr>\n",
              "  </tbody>\n",
              "</table>\n",
              "</div>"
            ],
            "text/plain": [
              "Pred        setosa  versicolor  virginica\n",
              "Real                                     \n",
              "setosa           8           0          0\n",
              "versicolor       0           5          2\n",
              "virginica        0           0         12"
            ]
          },
          "metadata": {
            "tags": []
          },
          "execution_count": 88
        }
      ]
    },
    {
      "cell_type": "markdown",
      "metadata": {
        "id": "IfBNEfZzSvvW",
        "colab_type": "text"
      },
      "source": [
        "* Por último podemos ver la importancia de las features en nuestra predicción, en este caso el ancho y largo de los pétalos fue lo mas importante a la hora de redecir que tipo de flor es"
      ]
    },
    {
      "cell_type": "code",
      "metadata": {
        "id": "_lkJZUoXLPmv",
        "colab_type": "code",
        "colab": {
          "base_uri": "https://localhost:8080/",
          "height": 92
        },
        "outputId": "d39ced9a-f957-4738-dde9-c8ebc9e2e097"
      },
      "source": [
        "list(zip(features, clf.feature_importances_))"
      ],
      "execution_count": 90,
      "outputs": [
        {
          "output_type": "execute_result",
          "data": {
            "text/plain": [
              "[('sepal length (cm)', 0.09541421399414007),\n",
              " ('sepal width (cm)', 0.02428037176747053),\n",
              " ('petal length (cm)', 0.4482435865255965),\n",
              " ('petal width (cm)', 0.43206182771279295)]"
            ]
          },
          "metadata": {
            "tags": []
          },
          "execution_count": 90
        }
      ]
    },
    {
      "cell_type": "code",
      "metadata": {
        "id": "gYTC0PndLPiV",
        "colab_type": "code",
        "colab": {
          "base_uri": "https://localhost:8080/",
          "height": 36
        },
        "outputId": "ae1e2a38-b6e8-45f5-e202-4b42247ff608"
      },
      "source": [
        "y2=([[5.0, 3.0, 2.0, 0.1]])\n",
        "test2 = y2\n",
        "clf.predict(test2)"
      ],
      "execution_count": 107,
      "outputs": [
        {
          "output_type": "execute_result",
          "data": {
            "text/plain": [
              "array([0])"
            ]
          },
          "metadata": {
            "tags": []
          },
          "execution_count": 107
        }
      ]
    },
    {
      "cell_type": "code",
      "metadata": {
        "id": "-tbVEfHILPg5",
        "colab_type": "code",
        "colab": {
          "base_uri": "https://localhost:8080/",
          "height": 36
        },
        "outputId": "783964c4-73ee-4efa-8f71-9ad2f1dc7b6c"
      },
      "source": [
        "preds2 = iris.target_names[clf.predict(test2)]\n",
        "preds2"
      ],
      "execution_count": 109,
      "outputs": [
        {
          "output_type": "execute_result",
          "data": {
            "text/plain": [
              "array(['setosa'], dtype='<U10')"
            ]
          },
          "metadata": {
            "tags": []
          },
          "execution_count": 109
        }
      ]
    },
    {
      "cell_type": "code",
      "metadata": {
        "id": "vcjBD5a8LPa-",
        "colab_type": "code",
        "colab": {}
      },
      "source": [
        ""
      ],
      "execution_count": 0,
      "outputs": []
    },
    {
      "cell_type": "code",
      "metadata": {
        "id": "W7HeNKaTLPWQ",
        "colab_type": "code",
        "colab": {}
      },
      "source": [
        ""
      ],
      "execution_count": 0,
      "outputs": []
    }
  ]
}